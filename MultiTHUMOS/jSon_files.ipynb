{
  "nbformat": 4,
  "nbformat_minor": 0,
  "metadata": {
    "colab": {
      "name": "for_json_gt.ipynb",
      "provenance": [],
      "collapsed_sections": []
    },
    "kernelspec": {
      "name": "python3",
      "display_name": "Python 3"
    },
    "language_info": {
      "name": "python"
    }
  },
  "cells": [
    {
      "cell_type": "code",
      "execution_count": null,
      "metadata": {
        "colab": {
          "base_uri": "https://localhost:8080/"
        },
        "id": "VOcw698QZmx8",
        "outputId": "6f11d5c4-d913-499b-90dd-8479045a2237"
      },
      "outputs": [
        {
          "output_type": "stream",
          "name": "stdout",
          "text": [
            "Mounted at /content/gdrive\n"
          ]
        }
      ],
      "source": [
        "from google.colab import drive\n",
        "drive.mount('/content/gdrive')"
      ]
    },
    {
      "cell_type": "code",
      "source": [
        "cd /content/gdrive/MyDrive/JsonFile #Move to the directory"
      ],
      "metadata": {
        "colab": {
          "base_uri": "https://localhost:8080/"
        },
        "id": "NiCdWdGCaiWM",
        "outputId": "c5b0f5b9-c252-4a33-e6ad-d4083f54afc9"
      },
      "execution_count": null,
      "outputs": [
        {
          "output_type": "stream",
          "name": "stdout",
          "text": [
            "/content/gdrive/MyDrive/JsonFile\n"
          ]
        }
      ]
    },
    {
      "cell_type": "code",
      "source": [
        "import json"
      ],
      "metadata": {
        "id": "mKOiKSITajYL"
      },
      "execution_count": null,
      "outputs": []
    },
    {
      "cell_type": "code",
      "source": [
        "#This is to see how it looks like (original one so we can make a similar one)\n",
        "with open('thumos_gt.json', 'r') as f:\n",
        "  data = json.load(f)\n",
        "\n",
        "print(json.dumps(data, indent = 4, sort_keys=True))"
      ],
      "metadata": {
        "id": "kB4E-RzZamaj"
      },
      "execution_count": null,
      "outputs": []
    },
    {
      "cell_type": "code",
      "source": [
        "import csv #We will also have to read our csv file"
      ],
      "metadata": {
        "id": "Sg3qHvexpQJi"
      },
      "execution_count": null,
      "outputs": []
    },
    {
      "cell_type": "code",
      "source": [
        "#make Tables (from csv)\n",
        "\n",
        "with open('test_Annotation.csv',newline='') as f1:\n",
        "    # we create the tables thanks to the csv file\n",
        "    tableau_test = csv.reader(f1)\n",
        "\n",
        "    video_name_test=[]\n",
        "    info_test=[] #format [ [label,[tstart,tend]] , ...]\n",
        "    for ligne in tableau_test:\n",
        "      if not (ligne[0] in video_name_test):\n",
        "        video_name_test.append(ligne[0])\n",
        "        info_test.append(  [        [ligne[1],   [ligne[3],ligne[4]]  ]        ]    )\n",
        "      else :\n",
        "        index=video_name_test.index(ligne[0] )\n",
        "        info_test[index].append([ligne[1],   [ligne[3],ligne[4]]  ] )"
      ],
      "metadata": {
        "id": "qQD_evCipZBJ"
      },
      "execution_count": null,
      "outputs": []
    },
    {
      "cell_type": "code",
      "source": [
        "#video_name_test"
      ],
      "metadata": {
        "id": "UKVxE-h8fyIU"
      },
      "execution_count": null,
      "outputs": []
    },
    {
      "cell_type": "code",
      "source": [
        "#We can also see, how much labels are asignated for this video for example\n",
        "#info_test[2]"
      ],
      "metadata": {
        "colab": {
          "base_uri": "https://localhost:8080/"
        },
        "id": "wUa8YQx376zi",
        "outputId": "d5ab4b95-9766-4f01-e478-12975e25ae02"
      },
      "execution_count": null,
      "outputs": [
        {
          "output_type": "execute_result",
          "data": {
            "text/plain": [
              "[['BaseballPitch', ['1.30', '4.80']],\n",
              " ['BaseballPitch', ['22.30', '25.30']],\n",
              " ['BaseballPitch', ['56.80', '59.70']],\n",
              " ['Walk', ['5.20', '6.83']],\n",
              " ['Walk', ['25.87', '26.17']],\n",
              " ['Walk', ['42.30', '47.07']],\n",
              " ['Walk', ['51.63', '56.60']],\n",
              " ['Walk', ['63.27', '64.87']],\n",
              " ['StandUp', ['25.47', '26.13']],\n",
              " ['StandUp', ['80.80', '81.70']],\n",
              " ['Stand', ['42.00', '47.00']],\n",
              " ['Run', ['31.00', '32.00']],\n",
              " ['Run', ['37.00', '41.00']],\n",
              " ['Run', ['46.00', '51.00']],\n",
              " ['Run', ['42.00', '45.00']],\n",
              " ['Run', ['26.00', '29.00']],\n",
              " ['Run', ['60.00', '63.00']],\n",
              " ['ClapHands', ['33.00', '34.00']],\n",
              " ['ClapHands', ['82.37', '82.93']],\n",
              " ['Throw', ['1.80', '3.10']],\n",
              " ['Throw', ['4.53', '4.97']],\n",
              " ['Throw', ['23.00', '24.07']],\n",
              " ['Throw', ['57.13', '58.43']],\n",
              " ['OneHandedCatch', ['3.30', '4.13']],\n",
              " ['OneHandedCatch', ['5.50', '6.03']],\n",
              " ['BodyContract', ['0.03', '4.43']],\n",
              " ['BodyContract', ['21.73', '25.27']],\n",
              " ['BodyContract', ['65.00', '67.00']],\n",
              " ['BodyContract', ['74.17', '80.57']],\n",
              " ['Squat', ['0.03', '4.43']],\n",
              " ['Squat', ['21.73', '25.27']],\n",
              " ['Squat', ['65.00', '67.00']],\n",
              " ['Squat', ['74.17', '80.57']],\n",
              " ['NoHuman', ['68.80', '73.57']],\n",
              " ['NoHuman', ['82.97', '85.97']]]"
            ]
          },
          "metadata": {},
          "execution_count": 12
        }
      ]
    },
    {
      "cell_type": "code",
      "source": [
        "#do the same for validation file\n",
        "with open('val_Annotation.csv',newline='') as f1:\n",
        "    # Créer un objet csv à partir du fichier\n",
        "    tableau_val = csv.reader(f1)\n",
        "\n",
        "    video_name_val=[]\n",
        "    info_val=[] #format [ [label,[tstart,tend]] , ...]\n",
        "    for ligne in tableau_val:\n",
        "      if not (ligne[0] in video_name_val):\n",
        "        video_name_val.append(ligne[0])\n",
        "        info_val.append(  [        [ligne[1],   [ligne[3],ligne[4]]  ]        ]    )\n",
        "      else :\n",
        "        index=video_name_val.index(ligne[0] )\n",
        "        info_val[index].append([ligne[1],   [ligne[3],ligne[4]]  ] )"
      ],
      "metadata": {
        "id": "Xn_rvScx86gj"
      },
      "execution_count": null,
      "outputs": []
    },
    {
      "cell_type": "code",
      "source": [
        "#video_name_val"
      ],
      "metadata": {
        "id": "7fEx_cs_9Vaq"
      },
      "execution_count": null,
      "outputs": []
    },
    {
      "cell_type": "code",
      "source": [
        "#info_val[2] #If we want to see how it looks like"
      ],
      "metadata": {
        "id": "6Ut3kPmk9Z-j"
      },
      "execution_count": null,
      "outputs": []
    },
    {
      "cell_type": "code",
      "source": [
        "#We start creating the Json file...\n",
        "Data_Base=json.loads('{}')\n",
        "\n",
        "\n",
        "for i in range(1,len(video_name_test)): #index 0 is useless\n",
        "  \n",
        "  Annotation_test=[]\n",
        "  \n",
        "  for j in range(len(info_test[i])):\n",
        "    #print(info_test[i][j][1])\n",
        "    Annotation_test.append({ \n",
        "        \"label\":info_test[i][j][0],\n",
        "        \"segment\":info_test[i][j][1]\n",
        "    })\n",
        "  video_test_info={\n",
        "      video_name_test[i]:{\n",
        "      \"annotations\":Annotation_test,\n",
        "      \"subset\":\"test\"\n",
        "      }\n",
        "  }\n",
        "  Data_Base.update(video_test_info)\n",
        "\n",
        "\n",
        "\n",
        "for i in range(1,len(video_name_val)): #index 0 is useless\n",
        "  Annotation_val=[]\n",
        "  for j in range(len(info_val[i])):\n",
        "    Annotation_val.append({ \n",
        "        \"label\":info_val[i][j][0],\n",
        "        \"segment\":info_val[i][j][1]\n",
        "    })\n",
        "  video_val_info={\n",
        "      video_name_val[i]:{\n",
        "      \"annotations\":Annotation_val,\n",
        "      \"subset\":\"train\"\n",
        "      }\n",
        "  }\n",
        "\n",
        "  Data_Base.update(video_val_info)\n",
        "\n",
        "\n",
        "\n"
      ],
      "metadata": {
        "id": "8qIIRw8Q9lYL"
      },
      "execution_count": null,
      "outputs": []
    },
    {
      "cell_type": "code",
      "source": [
        "Data_Base"
      ],
      "metadata": {
        "id": "DXXNJl-JHMtx"
      },
      "execution_count": null,
      "outputs": []
    },
    {
      "cell_type": "code",
      "source": [
        "json_file=json.loads('{}')\n",
        "my_json={\n",
        "    \"database\":Data_Base\n",
        "}\n",
        "json_file.update(my_json)"
      ],
      "metadata": {
        "id": "YEttzQfzHpJb"
      },
      "execution_count": null,
      "outputs": []
    },
    {
      "cell_type": "code",
      "source": [
        "with open('thumos_gt_new.json', 'w') as json_file2:\n",
        "  json.dump(json_file, json_file2)"
      ],
      "metadata": {
        "id": "geBYOkOnIUma"
      },
      "execution_count": null,
      "outputs": []
    },
    {
      "cell_type": "code",
      "source": [
        "#Visualisation doesn't work\n",
        "with open('thumos_gt_new.json', 'r') as f:\n",
        "  data = json.load(f)\n",
        "\n",
        "print(json.dumps(data, indent = 4, sort_keys=True))"
      ],
      "metadata": {
        "colab": {
          "base_uri": "https://localhost:8080/"
        },
        "id": "4WjdVu61MSjz",
        "outputId": "7d0fcdd3-4bf2-4272-9d4e-bfbfcb245cae"
      },
      "execution_count": null,
      "outputs": [
        {
          "output_type": "stream",
          "name": "stderr",
          "text": [
            "IOPub data rate exceeded.\n",
            "The notebook server will temporarily stop sending output\n",
            "to the client in order to avoid crashing it.\n",
            "To change this limit, set the config variable\n",
            "`--NotebookApp.iopub_data_rate_limit`.\n",
            "\n",
            "Current values:\n",
            "NotebookApp.iopub_data_rate_limit=1000000.0 (bytes/sec)\n",
            "NotebookApp.rate_limit_window=3.0 (secs)\n",
            "\n"
          ]
        }
      ]
    }
  ]
}