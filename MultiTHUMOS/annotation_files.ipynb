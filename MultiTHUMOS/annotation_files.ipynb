{
  "nbformat": 4,
  "nbformat_minor": 0,
  "metadata": {
    "colab": {
      "name": "test=gt.ipynb",
      "provenance": [],
      "collapsed_sections": []
    },
    "kernelspec": {
      "name": "python3",
      "display_name": "Python 3"
    },
    "language_info": {
      "name": "python"
    }
  },
  "cells": [
    {
      "cell_type": "code",
      "execution_count": null,
      "metadata": {
        "colab": {
          "base_uri": "https://localhost:8080/"
        },
        "id": "YvcwgM-8qet2",
        "outputId": "e4f4d488-eae8-4548-d3f0-90536d29ac8e"
      },
      "outputs": [
        {
          "output_type": "stream",
          "name": "stdout",
          "text": [
            "Mounted at /content/gdrive\n"
          ]
        }
      ],
      "source": [
        "from google.colab import drive\n",
        "drive.mount('/content/gdrive')"
      ]
    },
    {
      "cell_type": "code",
      "source": [
        "cd /content/gdrive/MyDrive/Python"
      ],
      "metadata": {
        "colab": {
          "base_uri": "https://localhost:8080/"
        },
        "outputId": "8f921415-bbfa-4748-a29f-55847cc4ad4e",
        "id": "EJsxKxEcYg8K"
      },
      "execution_count": null,
      "outputs": [
        {
          "output_type": "stream",
          "name": "stdout",
          "text": [
            "/content/gdrive/MyDrive/Python\n"
          ]
        }
      ]
    },
    {
      "cell_type": "code",
      "source": [
        "import csv"
      ],
      "metadata": {
        "id": "lcbcuaGSkeQl"
      },
      "execution_count": null,
      "outputs": []
    },
    {
      "cell_type": "code",
      "source": [
        "testHeader = ['video','type','type_idx','start','end','startFrame','endFrame']#['video','type','type_idx','start','end']\n",
        "with open('test_Annotation.csv', 'w', encoding='UTF8', newline='') as f:\n",
        "  writer = csv.writer(f)\n",
        "  writer.writerow(testHeader)\n",
        "  \n",
        "\n",
        "gtHeader = ['video-name','t-init','t-end','f-init','f-end','video-duration','frame-rate','video-frames','label-idx']\n",
        "with open('thumos14_test_groundtruth_new.csv', 'w', encoding='UTF8', newline='') as f:\n",
        "  writer = csv.writer(f)\n",
        "  writer.writerow(gtHeader)\n",
        "\n",
        "\n",
        "valHeader=['video','type','type_idx','start','end','startFrame','endFrame'] #['video','type','type_idx','start','end','startFrame','endFrame']\n",
        "with open('val_Annotation.csv', 'w', encoding='UTF8', newline='') as f:\n",
        "  writer = csv.writer(f)\n",
        "  writer.writerow(valHeader)"
      ],
      "metadata": {
        "id": "x-lb3_xCrUB2",
        "colab": {
          "base_uri": "https://localhost:8080/",
          "height": 53
        },
        "outputId": "bfa2e042-e614-44b3-e0bf-5614ca554a88"
      },
      "execution_count": null,
      "outputs": [
        {
          "output_type": "execute_result",
          "data": {
            "text/plain": [
              "\"\\nvalHeader=['video','type','type_idx','start','end','startFrame','endFrame'] #['video','type','type_idx','start','end','startFrame','endFrame']\\nwith open('val_Annotation.csv', 'w', encoding='UTF8', newline='') as f:\\n  writer = csv.writer(f)\\n  writer.writerow(valHeader)\""
            ],
            "application/vnd.google.colaboratory.intrinsic+json": {
              "type": "string"
            }
          },
          "metadata": {},
          "execution_count": 4
        }
      ]
    },
    {
      "cell_type": "code",
      "source": [
        "val_25=['video_validation_0000311','video_validation_0000413','video_validation_0000419','video_validation_0000420','video_validation_0000484']\n",
        "val_24='video_validation_0000411' \n",
        "\n",
        "def add_frame_validation(ligne): #Manually checked the frame rates\n",
        "  if ligne[0]==val_24:\n",
        "    startFrame=round(float(ligne[3])*24) #int or round\n",
        "    endFrame=round(float(ligne[4])*24)\n",
        "  elif ligne[0] in val_25:\n",
        "    startFrame=round(float(ligne[3])*25)\n",
        "    endFrame=round(float(ligne[4])*25)\n",
        "  else :\n",
        "    startFrame=round(float(ligne[3])*30)\n",
        "    endFrame=round(float(ligne[4])*30)\n",
        "  ligne.insert(5,startFrame)\n",
        "  ligne.insert(6,endFrame)\n",
        "  return ligne\n",
        "\n",
        "def add_frame_test(ligne):\n",
        "  indice=names.index(ligne[0])\n",
        "  frameRate=float(info_gt[indice][1])\n",
        "  startFrame=round(float(ligne[3])*frameRate)\n",
        "  endFrame=round(float(ligne[4])*frameRate)\n",
        "  ligne.insert(5,startFrame)\n",
        "  ligne.insert(6,endFrame)\n",
        "  return ligne"
      ],
      "metadata": {
        "id": "NhI47BmN4_JZ"
      },
      "execution_count": null,
      "outputs": []
    },
    {
      "cell_type": "code",
      "source": [
        "def add_frame_gt(ligne,i): \n",
        "  indice=names.index(ligne[0])\n",
        "  frameRate=float(info_gt[indice][1])\n",
        "  startFrame=round(float(ligne[1])*frameRate)\n",
        "  endFrame=round(float(ligne[2])*frameRate)\n",
        "  ligne.insert(3,startFrame)\n",
        "  ligne.insert(4,endFrame)\n",
        "  ligne.insert(5,info_gt[indice][0])\n",
        "  ligne.insert(6,info_gt[indice][1])\n",
        "  ligne.insert(7,info_gt[indice][2])\n",
        "  ligne.insert(8,i-1)\n",
        "  return ligne"
      ],
      "metadata": {
        "id": "F1QodMYVaz-S"
      },
      "execution_count": null,
      "outputs": []
    },
    {
      "cell_type": "code",
      "source": [
        "#make Gt_table : getting info from this file\n",
        "\n",
        "with open('thumos14_test_groundtruth.csv',newline='') as f5:\n",
        "    # Créer un objet csv à partir du fichier\n",
        "    tableau_gt = csv.reader(f5)\n",
        "\n",
        "    names=[]\n",
        "    info_gt=[] #format [video duration,frame rate,video_frame]\n",
        "    for ligne in tableau_gt:\n",
        "      if not (ligne[0] in names):\n",
        "        names.append(ligne[0])\n",
        "        info_gt.append([ ligne[5],ligne[6],ligne[7] ])\n"
      ],
      "metadata": {
        "id": "ZWIC5swScT7P"
      },
      "execution_count": null,
      "outputs": []
    },
    {
      "cell_type": "code",
      "source": [
        "with open('class_list.txt',newline='') as f:         \n",
        "    tableau_classes=[]\n",
        "    lire=csv.reader(f)                            \n",
        "    for ligne in lire:                            \n",
        "        tableau_classes.append(ligne)                    \n",
        "                                                 \n",
        "\n",
        "#due to copy issues, I will do this i two times for gt and test\n",
        "for i in range(len(tableau_classes)): #NOTE : I can change the insert by append in most places...\n",
        "  classses_info= tableau_classes[i][0].split()   \n",
        "  with open(classses_info[1]+'.txt',newline='') as f:         \n",
        "    tableau_test=[]\n",
        "    tableau_val=[]\n",
        "    tableau_gt=[]\n",
        "    lire=csv.reader(f)                         \n",
        "    for ligne in lire:        \n",
        "        ligne=ligne[0].split()\n",
        "        ligne.insert(1,classses_info[1])      \n",
        "        ligne.insert(2,classses_info[0])    \n",
        "        if ligne[0].startswith('video_validation_') :\n",
        "            ligne=add_frame_validation(ligne)\n",
        "            tableau_val.append(ligne)    \n",
        "        if  ligne[0].startswith('video_test_') : \n",
        "            ligne=add_frame_test(ligne)\n",
        "            tableau_test.append(ligne)    #PROBLEME DE COPIE\n",
        "\n",
        "   \n",
        "    with open('test_Annotation.csv','a', encoding='UTF8', newline='') as f2:\n",
        "      writer2 = csv.writer(f2)\n",
        "      writer2.writerows(tableau_test)\n",
        "    with open('val_Annotation.csv','a', encoding='UTF8', newline='') as f3:\n",
        "      writer3 = csv.writer(f3)\n",
        "      writer3.writerows(tableau_val)"
      ],
      "metadata": {
        "id": "UpUlc7BBeXP1"
      },
      "execution_count": null,
      "outputs": []
    },
    {
      "cell_type": "code",
      "source": [
        "with open('class_list.txt',newline='') as f:         \n",
        "    tableau_classes=[]\n",
        "    lire=csv.reader(f)                            \n",
        "    for ligne in lire:                            \n",
        "        tableau_classes.append(ligne)         \n",
        "\n",
        "for i in range(len(tableau_classes)):\n",
        "  classses_info= tableau_classes[i][0].split()   \n",
        "  with open(classses_info[1]+'.txt',newline='') as f:         \n",
        "    tableau_gt=[]\n",
        "    lire=csv.reader(f)                         \n",
        "    for ligne in lire:        \n",
        "        ligne=ligne[0].split()\n",
        "        if  ligne[0].startswith('video_test_') : \n",
        "            ligne=add_frame_gt(ligne,i)\n",
        "            tableau_gt.append(ligne) #On refait ca autre part \n",
        "\n",
        "    with open('thumos14_test_groundtruth_new.csv','a', encoding='UTF8', newline='') as f4:\n",
        "      writer4 = csv.writer(f4)\n",
        "      writer4.writerows(tableau_gt)\n"
      ],
      "metadata": {
        "id": "2QKKKPEJjRNx"
      },
      "execution_count": null,
      "outputs": []
    }
  ]
}